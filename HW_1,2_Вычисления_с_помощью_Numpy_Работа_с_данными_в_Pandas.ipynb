{
  "nbformat": 4,
  "nbformat_minor": 0,
  "metadata": {
    "colab": {
      "name": "HW_1,2_Вычисления с помощью Numpy. Работа с данными в Pandas.ipynb",
      "provenance": [],
      "collapsed_sections": []
    },
    "kernelspec": {
      "name": "python3",
      "display_name": "Python 3"
    }
  },
  "cells": [
    {
      "cell_type": "markdown",
      "metadata": {
        "id": "N1Bl83GrWU8Q"
      },
      "source": [
        "Задание 1\n",
        "\n",
        "Импортируйте библиотеку Numpy и дайте ей псевдоним np.\n",
        "\n",
        "Создайте массив Numpy под названием a размером 5x2, то есть состоящий из 5 строк и 2 столбцов. Первый столбец должен содержать числа 1, 2, 3, 3, 1, а второй - числа 6, 8, 11, 10, 7. Будем считать, что каждый столбец - это признак, а строка - наблюдение. Затем найдите среднее значение по каждому признаку, используя метод mean массива Numpy. Результат запишите в массив mean_a, в нем должно быть 2 элемента."
      ]
    },
    {
      "cell_type": "code",
      "metadata": {
        "id": "vbfPdfpzUHES"
      },
      "source": [
        "import numpy as np"
      ],
      "execution_count": 1,
      "outputs": []
    },
    {
      "cell_type": "code",
      "metadata": {
        "id": "1gVI0XGIUSYp"
      },
      "source": [
        "a = np.array([[1, 6],\n",
        "              [2, 8],\n",
        "              [3, 11],\n",
        "              [3, 10],\n",
        "              [1, 7]])"
      ],
      "execution_count": 2,
      "outputs": []
    },
    {
      "cell_type": "code",
      "metadata": {
        "colab": {
          "base_uri": "https://localhost:8080/"
        },
        "id": "hBJpkH64VWBg",
        "outputId": "f3a64270-636e-4862-e7b5-4005b68c6534"
      },
      "source": [
        "mean_a = a.mean(axis=0)\n",
        "mean_a"
      ],
      "execution_count": 3,
      "outputs": [
        {
          "output_type": "execute_result",
          "data": {
            "text/plain": [
              "array([2. , 8.4])"
            ]
          },
          "metadata": {
            "tags": []
          },
          "execution_count": 3
        }
      ]
    },
    {
      "cell_type": "markdown",
      "metadata": {
        "id": "DMWpzKtaWsMB"
      },
      "source": [
        "Задание 2\n",
        "\n",
        "Вычислите массив a_centered, отняв от значений массива “а” средние значения соответствующих признаков, содержащиеся в массиве mean_a. Вычисление должно производиться в одно действие. Получившийся массив должен иметь размер 5x2."
      ]
    },
    {
      "cell_type": "code",
      "metadata": {
        "colab": {
          "base_uri": "https://localhost:8080/"
        },
        "id": "Z9ASCpjxWvnH",
        "outputId": "b3da8042-dfe3-4f54-8360-00953a69151f"
      },
      "source": [
        "a_centered = a - mean_a\n",
        "a_centered"
      ],
      "execution_count": 4,
      "outputs": [
        {
          "output_type": "execute_result",
          "data": {
            "text/plain": [
              "array([[-1. , -2.4],\n",
              "       [ 0. , -0.4],\n",
              "       [ 1. ,  2.6],\n",
              "       [ 1. ,  1.6],\n",
              "       [-1. , -1.4]])"
            ]
          },
          "metadata": {
            "tags": []
          },
          "execution_count": 4
        }
      ]
    },
    {
      "cell_type": "markdown",
      "metadata": {
        "id": "Luf30i5UXoyY"
      },
      "source": [
        "Задание 3\n",
        "\n",
        "Найдите скалярное произведение столбцов массива a_centered. В результате должна получиться величина a_centered_sp. Затем поделите a_centered_sp на N-1, где N - число наблюдений."
      ]
    },
    {
      "cell_type": "code",
      "metadata": {
        "colab": {
          "base_uri": "https://localhost:8080/"
        },
        "id": "rTr4Y07OYIM9",
        "outputId": "03d2dafb-634f-40fb-d0e7-f635243c6d24"
      },
      "source": [
        "a_centered_transpose = np.transpose(a_centered)\n",
        "a_centered_sp = np.inner(a_centered_transpose[0], a_centered_transpose[1])\n",
        "a_centered_sp / (len(a) - 1)"
      ],
      "execution_count": 5,
      "outputs": [
        {
          "output_type": "execute_result",
          "data": {
            "text/plain": [
              "2.0"
            ]
          },
          "metadata": {
            "tags": []
          },
          "execution_count": 5
        }
      ]
    },
    {
      "cell_type": "markdown",
      "metadata": {
        "id": "hZSJFPa1f_1Q"
      },
      "source": [
        "Задание 4**\n",
        "\n",
        "Число, которое мы получили в конце задания 3 является ковариацией двух признаков, содержащихся в массиве “а”. В задании 4 мы делили сумму произведений центрированных признаков на N-1, а не на N, поэтому полученная нами величина является несмещенной оценкой ковариации.\n",
        "\n",
        "Подробнее узнать о ковариации можно здесь:\n",
        "\n",
        "*Выборочная ковариация и выборочная дисперсия — Студопедия*\n",
        "\n",
        "В этом задании проверьте получившееся число, вычислив ковариацию еще одним способом - с помощью функции np.cov. В качестве аргумента m функция np.cov должна принимать транспонированный массив “a”. В получившейся ковариационной матрице (массив Numpy размером 2x2) искомое значение ковариации будет равно элементу в строке с индексом 0 и столбце с индексом 1."
      ]
    },
    {
      "cell_type": "code",
      "metadata": {
        "colab": {
          "base_uri": "https://localhost:8080/"
        },
        "id": "aqNeeiIUgJ5k",
        "outputId": "9d7b9b93-7da4-4862-b9eb-28d13f68e900"
      },
      "source": [
        "a_transpose = np.transpose(a)\n",
        "np.cov(a_transpose)"
      ],
      "execution_count": 6,
      "outputs": [
        {
          "output_type": "execute_result",
          "data": {
            "text/plain": [
              "array([[1. , 2. ],\n",
              "       [2. , 4.3]])"
            ]
          },
          "metadata": {
            "tags": []
          },
          "execution_count": 6
        }
      ]
    },
    {
      "cell_type": "markdown",
      "metadata": {
        "id": "bcT8Ex9HjAQz"
      },
      "source": [
        "Задание 5**\n",
        "\n",
        "Создайте одномерный массив z случайных целых чисел из равномерного распределения от -50 до 50 включительно размерности 8. Найдите индексы положительных объектов."
      ]
    },
    {
      "cell_type": "code",
      "metadata": {
        "colab": {
          "base_uri": "https://localhost:8080/"
        },
        "id": "bjHKZ8AgjDif",
        "outputId": "85aa89bb-fb6f-4406-d6ec-983dc9704549"
      },
      "source": [
        "z = np.random.randint(-50, 50+1, 8)\n",
        "z"
      ],
      "execution_count": 7,
      "outputs": [
        {
          "output_type": "execute_result",
          "data": {
            "text/plain": [
              "array([ 20,  -2,  31, -40, -42,  30,  20,  50])"
            ]
          },
          "metadata": {
            "tags": []
          },
          "execution_count": 7
        }
      ]
    },
    {
      "cell_type": "code",
      "metadata": {
        "colab": {
          "base_uri": "https://localhost:8080/"
        },
        "id": "eEl32tN9kA8M",
        "outputId": "925274a3-5930-44c0-fd2a-3187260040cd"
      },
      "source": [
        "np.where(z > 0)"
      ],
      "execution_count": 8,
      "outputs": [
        {
          "output_type": "execute_result",
          "data": {
            "text/plain": [
              "(array([0, 2, 5, 6, 7]),)"
            ]
          },
          "metadata": {
            "tags": []
          },
          "execution_count": 8
        }
      ]
    },
    {
      "cell_type": "markdown",
      "metadata": {
        "id": "w0IfEaywmx-I"
      },
      "source": [
        "Задание 6**\n",
        "\n",
        "Создайте двумерный массив X случайных равномерно распределенных целых чисел от 0 до 255 включительно размерности 10 на 5. (Здесь снова считаем, что каждый столбец - это признак, а строка - наблюдение.)\n",
        "\n",
        "Найдите среднее значение и стандартное отклонение по каждому признаку.\n",
        "\n",
        "Вычислите массив X_standard, отняв от каждого признака среднее и поделив на стандартное отклонение.\n",
        "\n",
        "Убедитесь, что теперь среднее в каждом признаке стало равное нулю, а стандартное отклонение равно единице.\n",
        "\n",
        "Это называется стандартизация данных - важный процесс подготовки данных. Более подробно можно почитать здесь (https://wiki.loginom.ru/articles/data-standartization.html)"
      ]
    },
    {
      "cell_type": "code",
      "metadata": {
        "colab": {
          "base_uri": "https://localhost:8080/"
        },
        "id": "ilP5T3k-nBAc",
        "outputId": "bc2ccd85-a798-4c81-ffea-2aa7394ff570"
      },
      "source": [
        "X = np.random.randint(0, 255+1, (10, 5))\n",
        "X"
      ],
      "execution_count": 9,
      "outputs": [
        {
          "output_type": "execute_result",
          "data": {
            "text/plain": [
              "array([[125, 221,  29, 146, 123],\n",
              "       [166, 202,  13, 190,  94],\n",
              "       [ 74, 192, 194,  37,  82],\n",
              "       [ 45,  89, 101, 119, 121],\n",
              "       [ 89,  47, 225, 212, 213],\n",
              "       [197,  65,  43,  97,  83],\n",
              "       [ 90, 249, 171, 250, 199],\n",
              "       [230, 190,  75,  98,  32],\n",
              "       [ 68, 121,  44,  76, 171],\n",
              "       [216, 135, 198,  82, 168]])"
            ]
          },
          "metadata": {
            "tags": []
          },
          "execution_count": 9
        }
      ]
    },
    {
      "cell_type": "code",
      "metadata": {
        "colab": {
          "base_uri": "https://localhost:8080/"
        },
        "id": "DIPq3iX_nWwr",
        "outputId": "375cf2ad-6214-477d-a7f3-14d7bbb05316"
      },
      "source": [
        "mean_X = X.mean(axis=0)\n",
        "mean_X"
      ],
      "execution_count": 10,
      "outputs": [
        {
          "output_type": "execute_result",
          "data": {
            "text/plain": [
              "array([130. , 151.1, 109.3, 130.7, 128.6])"
            ]
          },
          "metadata": {
            "tags": []
          },
          "execution_count": 10
        }
      ]
    },
    {
      "cell_type": "code",
      "metadata": {
        "colab": {
          "base_uri": "https://localhost:8080/"
        },
        "id": "xhR-SIxKsMq3",
        "outputId": "680d52d3-d29a-4e42-c3d6-75942d7823bc"
      },
      "source": [
        "std_X = X.std(axis=0)\n",
        "std_X"
      ],
      "execution_count": 11,
      "outputs": [
        {
          "output_type": "execute_result",
          "data": {
            "text/plain": [
              "array([63.79028139, 65.96885629, 76.06714139, 64.09219921, 55.04398241])"
            ]
          },
          "metadata": {
            "tags": []
          },
          "execution_count": 11
        }
      ]
    },
    {
      "cell_type": "code",
      "metadata": {
        "colab": {
          "base_uri": "https://localhost:8080/"
        },
        "id": "472zOKa-o9CW",
        "outputId": "e4a0344a-6f2a-42ff-f320-9613070f814e"
      },
      "source": [
        "X_standard = (X - mean_X) / std_X\n",
        "X_standard"
      ],
      "execution_count": 12,
      "outputs": [
        {
          "output_type": "execute_result",
          "data": {
            "text/plain": [
              "array([[-0.07838185,  1.0595909 , -1.05564635,  0.2387186 , -0.10173682],\n",
              "       [ 0.56434929,  0.77157621, -1.26598684,  0.9252296 , -0.62858824],\n",
              "       [-0.87787667,  0.61998953,  1.11348998, -1.46195639, -0.84659572],\n",
              "       [-1.33249138, -0.94135329, -0.10911413, -0.18254952, -0.13807141],\n",
              "       [-0.64273114, -1.57801735,  1.52102469,  1.2684851 ,  1.53331929],\n",
              "       [ 1.05031673, -1.30516133, -0.87159842, -0.52580502, -0.82842843],\n",
              "       [-0.62705477,  1.48403361,  0.81112553,  1.86138097,  1.27897723],\n",
              "       [ 1.56763692,  0.58967219, -0.45091743, -0.5102025 , -1.75496023],\n",
              "       [-0.97193489, -0.45627591, -0.85845214, -0.853458  ,  0.7702931 ],\n",
              "       [ 1.34816775, -0.24405456,  1.16607511, -0.75984286,  0.71579123]])"
            ]
          },
          "metadata": {
            "tags": []
          },
          "execution_count": 12
        }
      ]
    },
    {
      "cell_type": "code",
      "metadata": {
        "colab": {
          "base_uri": "https://localhost:8080/"
        },
        "id": "6aRTmwXrpjf1",
        "outputId": "a2442dac-d5c3-4ac0-9783-dd8869657b90"
      },
      "source": [
        "mean_X_standard = X_standard.mean(axis=0)\n",
        "mean_X_standard"
      ],
      "execution_count": 13,
      "outputs": [
        {
          "output_type": "execute_result",
          "data": {
            "text/plain": [
              "array([0.00000000e+00, 8.32667268e-17, 2.22044605e-17, 1.77635684e-16,\n",
              "       1.22124533e-16])"
            ]
          },
          "metadata": {
            "tags": []
          },
          "execution_count": 13
        }
      ]
    },
    {
      "cell_type": "code",
      "metadata": {
        "colab": {
          "base_uri": "https://localhost:8080/"
        },
        "id": "aL_H_xqhppFz",
        "outputId": "b7197808-257a-48bb-bf23-f8808ca1280d"
      },
      "source": [
        "std_X_standard = X_standard.std(axis=0)\n",
        "std_X_standard"
      ],
      "execution_count": 14,
      "outputs": [
        {
          "output_type": "execute_result",
          "data": {
            "text/plain": [
              "array([1., 1., 1., 1., 1.])"
            ]
          },
          "metadata": {
            "tags": []
          },
          "execution_count": 14
        }
      ]
    },
    {
      "cell_type": "markdown",
      "metadata": {
        "id": "7gVOtBLrucV6"
      },
      "source": [
        "Задание 7**\n",
        "\n",
        "Создайте два одномерных массива размерности 512 с любыми значениями. Будем считать, что каждый массив - это наблюдение с 512 признаками. \n",
        "\n",
        "Найдите разницу между двумя массивами. Далее возведите разницу в квадрат, просуммируйте все элементы нового массива и возьмите корень квадратный.\n",
        "\n",
        "Это получилась L2-норма (Евклидова метрика) — функция расстояния, благодаря которой можно считать насколько далеки точки друг от друга, насколько они похожи друг на друга. Более подробно здесь (https://wiki.loginom.ru/articles/euclid-distance.html)\n",
        "\n",
        "Посчитайте L2 норму для этих двух массивов с помощью numpy.linalg."
      ]
    },
    {
      "cell_type": "code",
      "metadata": {
        "id": "_GfKwYjLuhqh"
      },
      "source": [
        "x_512 = np.random.randint(0, 999+1, 512)\n",
        "y_512 = np.random.randint(0, 999+1, 512)"
      ],
      "execution_count": 15,
      "outputs": []
    },
    {
      "cell_type": "code",
      "metadata": {
        "colab": {
          "base_uri": "https://localhost:8080/"
        },
        "id": "vM189h4iSREN",
        "outputId": "dca1be22-88cb-4ba8-b26d-693d97b1e478"
      },
      "source": [
        "difference_x_y = x_512 - y_512\n",
        "square_dif = difference_x_y ** 2\n",
        "my_sum = sum(square_dif)\n",
        "my_sqrt = np.sqrt(my_sum)\n",
        "# difference_x_y\n",
        "# square_dif\n",
        "# my_sum\n",
        "my_sqrt"
      ],
      "execution_count": 16,
      "outputs": [
        {
          "output_type": "execute_result",
          "data": {
            "text/plain": [
              "9321.914181111088"
            ]
          },
          "metadata": {
            "tags": []
          },
          "execution_count": 16
        }
      ]
    },
    {
      "cell_type": "code",
      "metadata": {
        "colab": {
          "base_uri": "https://localhost:8080/"
        },
        "id": "KbTpsqKGUo00",
        "outputId": "3f32b5bc-9109-49e2-815f-8ec092783957"
      },
      "source": [
        "np.linalg.norm(x_512)"
      ],
      "execution_count": 17,
      "outputs": [
        {
          "output_type": "execute_result",
          "data": {
            "text/plain": [
              "13008.645317633962"
            ]
          },
          "metadata": {
            "tags": []
          },
          "execution_count": 17
        }
      ]
    },
    {
      "cell_type": "code",
      "metadata": {
        "colab": {
          "base_uri": "https://localhost:8080/"
        },
        "id": "Q1cwsaVPWmG4",
        "outputId": "88e3a6bd-29fa-4571-fcce-93e7c6fd8f0b"
      },
      "source": [
        "np.linalg.norm(y_512)"
      ],
      "execution_count": 18,
      "outputs": [
        {
          "output_type": "execute_result",
          "data": {
            "text/plain": [
              "12588.027526185348"
            ]
          },
          "metadata": {
            "tags": []
          },
          "execution_count": 18
        }
      ]
    },
    {
      "cell_type": "markdown",
      "metadata": {
        "id": "RZHUXDcja_Px"
      },
      "source": [
        "Задание 8**\n",
        "\n",
        "Используйте ранее созданный массив X.\n",
        "\n",
        "Найдите минимальное значение и максимальное по каждому признаку.\n",
        "\n",
        "Вычислите массив X_norm, отняв от каждого признака минимальное и поделив на разницу максимального и минимального.\n",
        "\n",
        "Убедитесь, что теперь минимальное значение стало равно 0, а максимальное - 1.\n",
        "\n",
        "Это называется нормализация данных - еще один из важных процессов подготовки данных. Более подробно здесь (https://wiki.loginom.ru/articles/data-normalization.html)"
      ]
    },
    {
      "cell_type": "code",
      "metadata": {
        "colab": {
          "base_uri": "https://localhost:8080/"
        },
        "id": "jNLLYGTOa-1l",
        "outputId": "e42da7ca-4e8f-4d89-9ff2-e6b74c7fd2b2"
      },
      "source": [
        "min_X = X.min(axis=0)\n",
        "min_X"
      ],
      "execution_count": 19,
      "outputs": [
        {
          "output_type": "execute_result",
          "data": {
            "text/plain": [
              "array([45, 47, 13, 37, 32])"
            ]
          },
          "metadata": {
            "tags": []
          },
          "execution_count": 19
        }
      ]
    },
    {
      "cell_type": "code",
      "metadata": {
        "colab": {
          "base_uri": "https://localhost:8080/"
        },
        "id": "EPLh89IscV5-",
        "outputId": "a0d70652-3f77-4bdf-ef67-d29fd20a72e2"
      },
      "source": [
        "max_X = X.max(axis=0)\n",
        "max_X"
      ],
      "execution_count": 20,
      "outputs": [
        {
          "output_type": "execute_result",
          "data": {
            "text/plain": [
              "array([230, 249, 225, 250, 213])"
            ]
          },
          "metadata": {
            "tags": []
          },
          "execution_count": 20
        }
      ]
    },
    {
      "cell_type": "code",
      "metadata": {
        "colab": {
          "base_uri": "https://localhost:8080/"
        },
        "id": "ceKPew8Xcg7_",
        "outputId": "b488cd85-7304-42db-90e0-84abbb7d0290"
      },
      "source": [
        "X_norm = (X - min_X) / (max_X - min_X)\n",
        "X_norm"
      ],
      "execution_count": 21,
      "outputs": [
        {
          "output_type": "execute_result",
          "data": {
            "text/plain": [
              "array([[0.43243243, 0.86138614, 0.0754717 , 0.51173709, 0.50276243],\n",
              "       [0.65405405, 0.76732673, 0.        , 0.71830986, 0.34254144],\n",
              "       [0.15675676, 0.71782178, 0.85377358, 0.        , 0.27624309],\n",
              "       [0.        , 0.20792079, 0.41509434, 0.38497653, 0.49171271],\n",
              "       [0.23783784, 0.        , 1.        , 0.82159624, 1.        ],\n",
              "       [0.82162162, 0.08910891, 0.14150943, 0.28169014, 0.28176796],\n",
              "       [0.24324324, 1.        , 0.74528302, 1.        , 0.92265193],\n",
              "       [1.        , 0.70792079, 0.29245283, 0.28638498, 0.        ],\n",
              "       [0.12432432, 0.36633663, 0.14622642, 0.18309859, 0.7679558 ],\n",
              "       [0.92432432, 0.43564356, 0.87264151, 0.21126761, 0.75138122]])"
            ]
          },
          "metadata": {
            "tags": []
          },
          "execution_count": 21
        }
      ]
    },
    {
      "cell_type": "code",
      "metadata": {
        "colab": {
          "base_uri": "https://localhost:8080/"
        },
        "id": "_EqrBR4wdARF",
        "outputId": "1385ec8f-0d56-4408-c921-c2f8ffda38a9"
      },
      "source": [
        "X_norm.min(axis=0)"
      ],
      "execution_count": 22,
      "outputs": [
        {
          "output_type": "execute_result",
          "data": {
            "text/plain": [
              "array([0., 0., 0., 0., 0.])"
            ]
          },
          "metadata": {
            "tags": []
          },
          "execution_count": 22
        }
      ]
    },
    {
      "cell_type": "code",
      "metadata": {
        "colab": {
          "base_uri": "https://localhost:8080/"
        },
        "id": "wy1gD7q1dIJm",
        "outputId": "768ac1dc-0b4d-4743-ab93-73ecdae6c66b"
      },
      "source": [
        "X_norm.max(axis=0)"
      ],
      "execution_count": 23,
      "outputs": [
        {
          "output_type": "execute_result",
          "data": {
            "text/plain": [
              "array([1., 1., 1., 1., 1.])"
            ]
          },
          "metadata": {
            "tags": []
          },
          "execution_count": 23
        }
      ]
    }
  ]
}